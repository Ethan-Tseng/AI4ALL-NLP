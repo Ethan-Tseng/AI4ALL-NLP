{
 "cells": [
  {
   "cell_type": "markdown",
   "metadata": {},
   "source": [
    "# TFIDF on Fake News Challenge\n",
    "\n",
    "Let's get started. First, we have to load the training data. What packages do we need for that? From here on out, replace ___ with the necessary code."
   ]
  },
  {
   "cell_type": "code",
   "execution_count": null,
   "metadata": {},
   "outputs": [],
   "source": [
    "# -*- coding: utf-8 -*-\n",
    "\"\"\"\n",
    "Created on Tue Jul  2 16:50:39 2019\n",
    "@author: Nobline\n",
    "\"\"\"\n",
    "\n",
    "import ______ as __"
   ]
  },
  {
   "cell_type": "markdown",
   "metadata": {},
   "source": [
    "Next, let's actually load the training data. What pandas command might you need?"
   ]
  },
  {
   "cell_type": "code",
   "execution_count": null,
   "metadata": {},
   "outputs": [],
   "source": [
    "#load training data\n",
    "bodies = ______    #read train_bodies.csv\n",
    "headlines = _____ #read train_stances.csv\n",
    "train_data = pd.merge(bodies, headlines, on='Body ID')"
   ]
  },
  {
   "cell_type": "markdown",
   "metadata": {},
   "source": [
    "Once, we have our data, we can start extracting our TFIDF features. What package(s) do we need? Of course, Google can help us answer this. Also take a look at how this module is implemented when you're perusing online resources."
   ]
  },
  {
   "cell_type": "code",
   "execution_count": null,
   "metadata": {},
   "outputs": [],
   "source": [
    "#extract tfidf vectors of article body and headline\n",
    "from ___ import ____"
   ]
  },
  {
   "cell_type": "markdown",
   "metadata": {},
   "source": [
    "Let's now create a function called **tfidf_extractor** that takes two parameters: b (set of article bodies), h (set of headlines). This function will extract the TFIDF vectors and print out the resulting matrices. Take a look at the comments and fill in the appropriate code."
   ]
  },
  {
   "cell_type": "code",
   "execution_count": null,
   "metadata": {},
   "outputs": [],
   "source": [
    "#extracting tfidf vectors for b (bodies) and h (headlines)\n",
    "def tfidf_extractor(b, h):\n",
    "    vect = ______   #initialize TfidfVectorizer\n",
    "    bodyTFIDF = ______     #extract features and store them in bodyTFIDF\n",
    "    \n",
    "    #print results\n",
    "    print(\"BODIES\")\n",
    "    print(bodyTFIDF)\n",
    "    \n",
    "    headlineTFIDF = _____    #extract features and store them in headlineTFIDF\n",
    "    \n",
    "    #print results\n",
    "    print(\"HEADLINES\")\n",
    "    print(headlineTFIDF)"
   ]
  },
  {
   "cell_type": "markdown",
   "metadata": {},
   "source": [
    "LAST STEP! We're almost done! Let's call the function we just made on our set of articles bodies and headlines and see what we get."
   ]
  },
  {
   "cell_type": "code",
   "execution_count": null,
   "metadata": {},
   "outputs": [],
   "source": [
    "#main action!\n",
    "tfidf_extractor(_____, ______)"
   ]
  }
 ],
 "metadata": {
  "kernelspec": {
   "display_name": "Python 3",
   "language": "python",
   "name": "python3"
  },
  "language_info": {
   "codemirror_mode": {
    "name": "ipython",
    "version": 3
   },
   "file_extension": ".py",
   "mimetype": "text/x-python",
   "name": "python",
   "nbconvert_exporter": "python",
   "pygments_lexer": "ipython3",
   "version": "3.7.3"
  }
 },
 "nbformat": 4,
 "nbformat_minor": 2
}
