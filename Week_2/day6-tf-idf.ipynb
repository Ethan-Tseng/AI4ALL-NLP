{
 "cells": [
  {
   "cell_type": "markdown",
   "metadata": {},
   "source": [
    "# Feature Extraction & TF-IDF\n",
    "\n",
    "Today, we're going to implement our tf-idf counter and sketch out the broad outlines of our feature extraction code. Keep in mind, we want everything we write to be compatible with the cleaning and loading code we wrote yesterday, since that's the data that we'll be extracting features from!"
   ]
  },
  {
   "cell_type": "code",
   "execution_count": 24,
   "metadata": {},
   "outputs": [],
   "source": [
    "from math import log"
   ]
  },
  {
   "cell_type": "markdown",
   "metadata": {},
   "source": [
    "### Dictionary counting\n",
    "\n",
    "For our idf function, we're going to want to count the number of documents where a word occurs. The best way to do counting of multiple items in Python is using a dictionary where the keys are the items to count and the values are the counts for each item. We're going to practice writing that function first. "
   ]
  },
  {
   "cell_type": "code",
   "execution_count": 1,
   "metadata": {},
   "outputs": [],
   "source": [
    "# This function will count the items into the dictionary. Count items will be a list (in this case, of words)\n",
    "# and count_dictionary will be a dictionary of counts. It's important to not assume anything about count_dictionary\n",
    "# it could have all keys already in it, or it could be totally empty. \n",
    "def dictionary_count(count_items, count_dictionary):\n",
    "    for item in count_items:\n",
    "        if item in count_dictionary:\n",
    "            count_dictionary[item] += 1\n",
    "        else:\n",
    "            count_dictionary[item] = 1\n",
    "    return count_dictionary"
   ]
  },
  {
   "cell_type": "code",
   "execution_count": 2,
   "metadata": {},
   "outputs": [
    {
     "name": "stdout",
     "output_type": "stream",
     "text": [
      "{'apple': 2, 'blueberry': 3, 'banana': 1, 'orange': 1, 'kiwi': 2, 'strawberry': 1}\n"
     ]
    }
   ],
   "source": [
    "# Let's test it out\n",
    "\n",
    "fruit_counts = {}\n",
    "my_fruit = [\"apple\", \"blueberry\", \"banana\", \"orange\", \"apple\", \"kiwi\", \"kiwi\", \"strawberry\", \"blueberry\", \"blueberry\"]\n",
    "fruit_counts = dictionary_count(my_fruit, fruit_counts)\n",
    "print(fruit_counts)"
   ]
  },
  {
   "cell_type": "markdown",
   "metadata": {},
   "source": [
    "### Eliminating duplicates\n",
    "\n",
    "One more thing we have to do for our idf counting. We want a factor that calculates the number of documents in which a word appears. So, we want to count at most one occurrence of a word per document. What will happen if we just count all occurrences of a word that we see?\n",
    "\n",
    "You can imagine that we'll get a much higher number than we want, since most documents have many repeated words. So, we need to write a function to eliminate duplicate words within a single document (at least, temporarily! We want them in there for frequency counting later). \n",
    "\n",
    "The outline of the function below is doing this from scratch. There are a few ways to accomplish this in Python --- feel free to diverge from the structure and use another strategy if you like!"
   ]
  },
  {
   "cell_type": "code",
   "execution_count": null,
   "metadata": {
    "collapsed": true
   },
   "outputs": [],
   "source": [
    "# This function takes in a list of items and eliminates the duplicates\n",
    "def elim_dupes(items):\n",
    "    # TODO: make a new list\n",
    "\n",
    "    # TODO: loop through all list items\n",
    "\n",
    "        # TODO: if this list item isn't in the new list, add it\n",
    "\n",
    "    # TODO: return the new list\n"
   ]
  },
  {
   "cell_type": "code",
   "execution_count": null,
   "metadata": {},
   "outputs": [],
   "source": [
    "# Let's test it out\n",
    "\n",
    "my_fruit_types = elim_dupes(my_fruit)\n",
    "print(my_fruit_types)\n",
    "\n",
    "single_count_d = {}\n",
    "single_count_d = dictionary_count(my_fruit_types, single_count_d)\n",
    "print(single_count_d)"
   ]
  },
  {
   "cell_type": "markdown",
   "metadata": {},
   "source": [
    "## IDF scaling\n",
    "\n",
    "What we're going to do now is write a function that finds the relative frequency of any word across all documents (that is, what portion of documents contain that word). We will later use this term to scale individual term counts for each text document.\n",
    "\n",
    "We're going to structure this function to read from a dictionary of text bodies. The keys in the dictionary are IDs, while the values are the documents, which are long Strings. Tomorrow, during data cleaning, this is the format we will use to represent the Fake News Challenge data.\n",
    "\n",
    "Here is the documentation for the dictionary type. We're going to want a function that lets us loop through the keys and items in a dictionary --- can you find it? \n",
    "\n",
    "https://docs.python.org/3/tutorial/datastructures.html#dictionaries\n"
   ]
  },
  {
   "cell_type": "code",
   "execution_count": 21,
   "metadata": {},
   "outputs": [],
   "source": [
    "# Find the idf for a particular keyword for a corpus of documents, which is a list of documents\n",
    "def find_idf(keyword, corpus):\n",
    "    docs_containing = 0\n",
    "    idf = {}\n",
    "    \n",
    "    # TODO: loop through the items in id2body using a dictionary method\n",
    "    for (doc_id, doc) in corpus.items():\n",
    "        if keyword in doc:\n",
    "            docs_containing += 1\n",
    "    \n",
    "    total_docs = len(corpus)\n",
    "    \n",
    "    return log(total_docs / docs_containing)"
   ]
  },
  {
   "cell_type": "code",
   "execution_count": 25,
   "metadata": {},
   "outputs": [
    {
     "name": "stdout",
     "output_type": "stream",
     "text": [
      "It was the best of times,it was the worst of times,it was the age of wisdom,it was the age of foolishness,it was the epoch of belief,it was the epoch of incredulity,it was the season of Light,it was the season of Darkness,it was the spring of hope,it was the winter of despair,we had everything before us, we had nothing before us, we were all going direct to Heaven, we were all going direct the other way— in short, the period was so far like the present period, that some of its noisiest authorities insisted on its being received, for good or for evil, in the superlative degree of comparison only\n"
     ]
    }
   ],
   "source": [
    "# Let's test your IDF function! Here is some example data from Charles Dickens. Each document is one sentence in the paragraph.\n",
    "\n",
    "dickens_text = \"It was the best of times,\\\n",
    "it was the worst of times,\\\n",
    "it was the age of wisdom,\\\n",
    "it was the age of foolishness,\\\n",
    "it was the epoch of belief,\\\n",
    "it was the epoch of incredulity,\\\n",
    "it was the season of Light,\\\n",
    "it was the season of Darkness,\\\n",
    "it was the spring of hope,\\\n",
    "it was the winter of despair,\\\n",
    "we had everything before us, we had nothing before us, we were all going direct to Heaven, we were all going direct the other way— in short, the period was so far like the present period, that some of its noisiest authorities insisted on its being received, for good or for evil, in the superlative degree of comparison only.\\\n",
    "There were a king with a large jaw and a queen with a plain face, on the throne of England; there were a king with a large jaw and a queen with a fair face, on the throne of France. In both countries it was clearer than crystal to the lords of the State preserves of loaves and fishes, that things in general were settled for ever.\\\n",
    "It was the year of Our Lord one thousand seven hundred and seventy-five. Spiritual revelations were conceded to England at that favoured period, as at this. Mrs. Southcott had recently attained her five-and-twentieth blessed birthday, of whom a prophetic private in the Life Guards had heralded the sublime appearance by announcing that arrangements were made for the swallowing up of London and Westminster. Even the Cock-lane ghost had been laid only a round dozen of years, after rapping out its messages, as the spirits of this very year last past (supernaturally deficient in originality) rapped out theirs. Mere messages in the earthly order of events had lately come to the English Crown and People, from a congress of British subjects in America: which, strange to relate, have proved more important to the human race than any communications yet received through any of the chickens of the Cock-lane brood.\\\n",
    "France, less favoured on the whole as to matters spiritual than her sister of the shield and trident, rolled with exceeding smoothness down hill, making paper money and spending it. Under the guidance of her Christian pastors, she entertained herself, besides, with such humane achievements as sentencing a youth to have his hands cut off, his tongue torn out with pincers, and his body burned alive, because he had not kneeled down in the rain to do honour to a dirty procession of monks which passed within his view, at a distance of some fifty or sixty yards. It is likely enough that, rooted in the woods of France and Norway, there were growing trees, when that sufferer was put to death, already marked by the Woodman, Fate, to come down and be sawn into boards, to make a certain movable framework with a sack and a knife in it, terrible in history. It is likely enough that in the rough outhouses of some tillers of the heavy lands adjacent to Paris, there were sheltered from the weather that very day, rude carts, bespattered with rustic mire, snuffed about by pigs, and roosted in by poultry, which the Farmer, Death, had already set apart to be his tumbrils of the Revolution. But that Woodman and that Farmer, though they work unceasingly, work silently, and no one heard them as they went about with muffled tread: the rather, forasmuch as to entertain any suspicion that they were awake, was to be atheistical and traitorous.\\\n",
    "In England, there was scarcely an amount of order and protection to justify much national boasting. Daring burglaries by armed men, and highway robberies, took place in the capital itself every night; families were publicly cautioned not to go out of town without removing their furniture to upholsterers' warehouses for security; the highwayman in the dark was a City tradesman in the light, and, being recognised and challenged by his fellow-tradesman whom he stopped in his character of the Captain, gallantly shot him through the head and rode away; the mail was waylaid by seven robbers, and the guard shot three dead, and then got shot dead himself by the other four, in consequence of the failure of his ammunition: after which the mail was robbed in peace; that magnificent potentate, the Lord Mayor of London, was made to stand and deliver\\\n",
    "on Turnham Green, by one highwayman, who despoiled the illustrious creature in sight of all his retinue; prisoners in London gaols fought battles with their turnkeys, and the majesty of the law fired blunderbusses in among them, loaded with rounds of shot and ball; thieves snipped off diamond crosses from the necks of noble lords at Court drawing-rooms; musketeers went into St. Giles's, to search for contraband goods, and the mob fired on the musketeers, and the musketeers fired on the mob, and nobody thought any of these occurrences much out of the common way. In the midst of them, the hangman, ever busy and ever worse than useless, was in constant requisition; now, stringing up long rows of miscellaneous criminals; now, hanging a housebreaker on Saturday who had been taken on Tuesday; now, burning people in the hand at Newgate by the dozen, and now burning pamphlets at the door of Westminster Hall; to-day, taking the life of an atrocious murderer, and to-morrow of a wretched pilferer who had robbed a farmer's boy of sixpence\\\n",
    "All these things, and a thousand like them, came to pass in and close upon the dear old year one thousand seven hundred and seventy-five. Environed by them, while the Woodman and the Farmer worked unheeded, those two of the large jaws, and those other two of the plain and the fair faces, trod with stir enough, and carried their divine rights with a high hand. Thus did the year one thousand seven hundred and seventy-five conduct their Greatnesses, and myriads of small creatures—the creatures of this chronicle among the rest—along the roads that lay before them.\"\n",
    "example_sentences = dickens_text.split('.')\n",
    "example_corpus = {}\n",
    "for i in range(len(example_sentences)):\n",
    "    example_corpus[i] = example_sentences[i]\n",
    "print(example_corpus[0])"
   ]
  },
  {
   "cell_type": "code",
   "execution_count": 29,
   "metadata": {},
   "outputs": [
    {
     "name": "stdout",
     "output_type": "stream",
     "text": [
      "0.15415067982725836\n",
      "0.10008345855698263\n",
      "0.15415067982725836\n",
      "0.8472978603872037\n"
     ]
    }
   ],
   "source": [
    "# Let's take a look at some of the idf values. Do these look about right to you?\n",
    "print(find_idf(\"the\", example_corpus))\n",
    "print(find_idf(\"a\", example_corpus))\n",
    "print(find_idf(\"an\", example_corpus))\n",
    "print(find_idf(\"we\", example_corpus))"
   ]
  },
  {
   "cell_type": "markdown",
   "metadata": {},
   "source": [
    "## Looking Forward\n",
    "\n",
    "We're not going to lay out all of our code today, but we're going to look at the broad outlines of our final project code. A code skeleton is a broad outline of your code made out of comments. It's good practice to create a code skeleton before you embark on large projects, so that you can see how everything will fit together. "
   ]
  },
  {
   "cell_type": "code",
   "execution_count": null,
   "metadata": {
    "collapsed": true
   },
   "outputs": [],
   "source": [
    "# def make_predictions():\n",
    "    \n",
    "    # Load and clean the body (training and test set)\n",
    "    # Load and clean the stances (training set)\n",
    "    # Load and clean the headlines (test set)\n",
    "    \n",
    "    # Prepare the idf\n",
    "    \n",
    "    # Make a predictor to train and predictor\n",
    "    \n",
    "    # For every example in the training set:\n",
    "        # Extract the features\n",
    "        # Do one training step for a predictor using those features and the correct label\n",
    "    \n",
    "    # For every example in the test set:\n",
    "        # Extract the features \n",
    "        # Use the predictor to make a prediction based on those features\n",
    "    \n",
    "    # Check our predicted answers against the real answers\n",
    "    # Output accuracy measures!\n",
    "    \n",
    "# def extract_features():\n",
    "    # Get idf-scaled lexical overlaps \n",
    "    # Get semantic similarity \n",
    "    # Return a vector containing both"
   ]
  },
  {
   "cell_type": "markdown",
   "metadata": {},
   "source": [
    "You'll notice that we've already done several of the first steps! Ask an instructor if you have any questions at all. Getting features is the next big hurdle, and we'll spend a few days doing that. Great work this week!"
   ]
  }
 ],
 "metadata": {
  "kernelspec": {
   "display_name": "Python 3",
   "language": "python",
   "name": "python3"
  },
  "language_info": {
   "codemirror_mode": {
    "name": "ipython",
    "version": 3
   },
   "file_extension": ".py",
   "mimetype": "text/x-python",
   "name": "python",
   "nbconvert_exporter": "python",
   "pygments_lexer": "ipython3",
   "version": "3.6.5"
  }
 },
 "nbformat": 4,
 "nbformat_minor": 2
}
