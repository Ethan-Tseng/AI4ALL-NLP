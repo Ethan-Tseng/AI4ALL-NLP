{
 "cells": [
  {
   "cell_type": "markdown",
   "metadata": {},
   "source": [
    "# Cleaning the Data\n",
    "\n",
    "Today, we'll be doing two things: (1) learning what it takes to clean data, (2) practicing how to use pre-made Python packages.\n",
    "We'll be following the following steps to clean the data:\n",
    "\n",
    "1. Lowercase the words\n",
    "2. Remove punctuation\n",
    "3. Remove stopwords (extremely common words in English)\n",
    "4. Tokenization\n",
    "5. Lemmatize words (convert to dictionary/base form)"
   ]
  },
  {
   "cell_type": "markdown",
   "metadata": {},
   "source": [
    "### Lowercasing\n",
    "\n",
    "Let's get started by importing pandas and reading in the article bodies. Then, we'll lowercase everything. Look through Google to see what string method would be appropriate."
   ]
  },
  {
   "cell_type": "code",
   "execution_count": null,
   "metadata": {},
   "outputs": [],
   "source": [
    "import pandas as pd\n",
    "bodies = pd.read_csv(\"train_bodies.csv\")\n",
    "for __ in ___: #traverse through each row of bodies dataframe\n",
    "    bodies.set_value(i, \"articleBody\", bodies['articleBody'].iloc[i].____) #lowercase everything\n",
    "print(bodies)"
   ]
  },
  {
   "cell_type": "markdown",
   "metadata": {},
   "source": [
    "### Remove Punctuation\n",
    "\n",
    "Ask Google for the appropriate string method to remove punctuation. Consult StackOverflow if needed.\n",
    "\n",
    "https://stackoverflow.com/questions/1276764/stripping-everything-but-alphanumeric-chars-from-a-string-in-python"
   ]
  },
  {
   "cell_type": "code",
   "execution_count": null,
   "metadata": {
    "scrolled": false
   },
   "outputs": [],
   "source": [
    "import re\n",
    "\n",
    "for i in range(bodies.shape[0]):\n",
    "    bodies.set_value(i, \"articleBody\", _______) #replace with code to remove everything but alphanumeric characters and spaces\n",
    "print(bodies)"
   ]
  },
  {
   "cell_type": "markdown",
   "metadata": {},
   "source": [
    "### Remove stopwords\n",
    "\n",
    "Let's use gensim's STOPWORDS."
   ]
  },
  {
   "cell_type": "code",
   "execution_count": null,
   "metadata": {},
   "outputs": [],
   "source": [
    "from ________ import _________  #import necessary package to remove stopwrods\n",
    "\n",
    "for i in range(bodies.shape[0]):\n",
    "    bodies.set_value(i, \"articleBody\", _______(bodies['articleBody'].iloc[i])) #call remove_stopwords\n",
    "print(bodies)"
   ]
  },
  {
   "cell_type": "markdown",
   "metadata": {},
   "source": [
    "### Tokenization\n",
    "\n",
    "Let's use nltk's tokenizer for this task."
   ]
  },
  {
   "cell_type": "code",
   "execution_count": null,
   "metadata": {},
   "outputs": [],
   "source": [
    "from _______ import _______   #import necessary package to tokenize string\n",
    "\n",
    "for i in range(bodies.shape[0]):\n",
    "    bodies.set_value(i, \"articleBody\", ______(bodies['articleBody'].iloc[i])) #call word_tokenize\n",
    "print(bodies)"
   ]
  },
  {
   "cell_type": "markdown",
   "metadata": {},
   "source": [
    "### Lemmatizing\n",
    "\n",
    "Let's use nltk's lemmatizer for this."
   ]
  },
  {
   "cell_type": "code",
   "execution_count": null,
   "metadata": {},
   "outputs": [],
   "source": [
    "from ______ import WordNetLemmatizer   #import this from where?\n",
    "\n",
    "lemmatizer = WordNetLemmatizer()\n",
    "for i in range(bodies.shape[0]):\n",
    "    for j in range(len(bodies['articleBody'].iloc[i])):\n",
    "        bodies['articleBody'].iloc[i][j] = lemmatizer.________(bodies['articleBody'].iloc[i][j])  #fill in the blank\n",
    "print(bodies)"
   ]
  },
  {
   "cell_type": "markdown",
   "metadata": {},
   "source": [
    "Congrats! We're done!"
   ]
  },
  {
   "cell_type": "code",
   "execution_count": null,
   "metadata": {},
   "outputs": [],
   "source": []
  }
 ],
 "metadata": {
  "kernelspec": {
   "display_name": "Python 3",
   "language": "python",
   "name": "python3"
  },
  "language_info": {
   "codemirror_mode": {
    "name": "ipython",
    "version": 3
   },
   "file_extension": ".py",
   "mimetype": "text/x-python",
   "name": "python",
   "nbconvert_exporter": "python",
   "pygments_lexer": "ipython3",
   "version": "3.7.3"
  }
 },
 "nbformat": 4,
 "nbformat_minor": 2
}
